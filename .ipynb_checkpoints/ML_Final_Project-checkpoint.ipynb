{
 "cells": [
  {
   "cell_type": "markdown",
   "metadata": {
    "id": "oCRgMoi3DxYs"
   },
   "source": [
    "# Bayesian Machine Learning Final Project \n",
    "### Diyu Zheng, Taylor Rohrich, Congxin (David) Xu\n",
    "\n"
   ]
  },
  {
   "cell_type": "code",
   "execution_count": 1,
   "metadata": {
    "colab": {
     "base_uri": "https://localhost:8080/"
    },
    "id": "WuwQUJFNbq66",
    "outputId": "e48bc69d-544d-47bf-8e72-aa06c7a849f6"
   },
   "outputs": [],
   "source": [
    "import pandas as pd\n",
    "import pymc3 as pm\n",
    "import sklearn.model_selection\n",
    "import sklearn\n",
    "from pandas_profiling import ProfileReport\n",
    "import arviz as az\n",
    "import seaborn as sns\n",
    "import numpy as np\n",
    "np.random.seed(0)"
   ]
  },
  {
   "cell_type": "markdown",
   "metadata": {
    "id": "TRuI8BdSEDd5"
   },
   "source": [
    "## Data Cleaning"
   ]
  },
  {
   "cell_type": "markdown",
   "metadata": {},
   "source": [
    "#### Read this for full data"
   ]
  },
  {
   "cell_type": "code",
   "execution_count": 2,
   "metadata": {},
   "outputs": [],
   "source": [
    "data = pd.read_csv('small.csv', low_memory=False)"
   ]
  },
  {
   "cell_type": "code",
   "execution_count": 3,
   "metadata": {
    "colab": {
     "base_uri": "https://localhost:8080/"
    },
    "id": "Ue7yCEDLHV70",
    "outputId": "e473614f-79cf-4ab9-86c2-0045124948ee"
   },
   "outputs": [
    {
     "data": {
      "text/plain": [
       "array(['Fully Paid', 'Charged Off', 'Current', 'Default',\n",
       "       'In Grace Period', 'Late (16-30 days)', 'Late (31-120 days)'],\n",
       "      dtype=object)"
      ]
     },
     "execution_count": 3,
     "metadata": {},
     "output_type": "execute_result"
    }
   ],
   "source": [
    "# Identify the response variable\n",
    "data.loan_status.unique()"
   ]
  },
  {
   "cell_type": "code",
   "execution_count": 4,
   "metadata": {
    "colab": {
     "base_uri": "https://localhost:8080/"
    },
    "id": "6mtRwibPHrOM",
    "outputId": "7374572a-f9ee-48a1-d776-b407f7a4af92"
   },
   "outputs": [
    {
     "data": {
      "text/plain": [
       "Fully Paid            4885\n",
       "Charged Off           1274\n",
       "Current                149\n",
       "In Grace Period          5\n",
       "Default                  1\n",
       "Late (31-120 days)       1\n",
       "Late (16-30 days)        1\n",
       "Name: loan_status, dtype: int64"
      ]
     },
     "execution_count": 4,
     "metadata": {},
     "output_type": "execute_result"
    }
   ],
   "source": [
    "# Distribution of the response variable\n",
    "data.loan_status.value_counts()"
   ]
  },
  {
   "cell_type": "code",
   "execution_count": 5,
   "metadata": {
    "colab": {
     "base_uri": "https://localhost:8080/"
    },
    "id": "Gqz7-UC0H0Wt",
    "outputId": "03493f0a-2c55-4c76-f130-9b5ebfcfb915"
   },
   "outputs": [
    {
     "data": {
      "text/plain": [
       "Fully Paid    5041\n",
       "Default       1275\n",
       "Name: loan_status, dtype: int64"
      ]
     },
     "execution_count": 5,
     "metadata": {},
     "output_type": "execute_result"
    }
   ],
   "source": [
    "# For Simplicity, we are only going to assume that all data are either 'Default' or `Fully Paid`\n",
    "data.loc[data['loan_status'] == 'Charged Off', 'loan_status'] = 'Default'\n",
    "data.loc[data['loan_status'] != 'Default', 'loan_status'] = 'Fully Paid'\n",
    "data.loan_status.value_counts()"
   ]
  },
  {
   "cell_type": "markdown",
   "metadata": {
    "id": "naU7W7UytaV8"
   },
   "source": [
    "### Split training and test data\n",
    "We are going to split the original data into 2 parts, training data and testing data. The Bayesian Logistic Regression model and the Naive Bayes model will only uses the training data to train the model and later, use the test data to generate forecast accuracy metrics and compare the performance with each other."
   ]
  },
  {
   "cell_type": "code",
   "execution_count": 6,
   "metadata": {
    "colab": {
     "base_uri": "https://localhost:8080/"
    },
    "id": "PG86reFAtZ8r",
    "outputId": "de3d0102-0390-4a3a-cc04-bfc507fb496c"
   },
   "outputs": [
    {
     "data": {
      "text/plain": [
       "Fully Paid    4046\n",
       "Default       1006\n",
       "Name: loan_status, dtype: int64"
      ]
     },
     "execution_count": 6,
     "metadata": {},
     "output_type": "execute_result"
    }
   ],
   "source": [
    "train, test = sklearn.model_selection.train_test_split(data, test_size=0.2,random_state=0)\n",
    "train.loan_status.value_counts()"
   ]
  },
  {
   "cell_type": "code",
   "execution_count": 7,
   "metadata": {
    "colab": {
     "base_uri": "https://localhost:8080/"
    },
    "id": "apxO1uv6u86h",
    "outputId": "f3c1fc54-f93e-463a-dfa7-1e5837af6065"
   },
   "outputs": [
    {
     "data": {
      "text/plain": [
       "Fully Paid    995\n",
       "Default       269\n",
       "Name: loan_status, dtype: int64"
      ]
     },
     "execution_count": 7,
     "metadata": {},
     "output_type": "execute_result"
    }
   ],
   "source": [
    "test.loan_status.value_counts()"
   ]
  },
  {
   "cell_type": "code",
   "execution_count": 8,
   "metadata": {},
   "outputs": [
    {
     "name": "stderr",
     "output_type": "stream",
     "text": [
      "<ipython-input-8-52aa32fe94d0>:2: SettingWithCopyWarning: \n",
      "A value is trying to be set on a copy of a slice from a DataFrame.\n",
      "Try using .loc[row_indexer,col_indexer] = value instead\n",
      "\n",
      "See the caveats in the documentation: https://pandas.pydata.org/pandas-docs/stable/user_guide/indexing.html#returning-a-view-versus-a-copy\n",
      "  train['loan_status'] = train['loan_status'].map({'Fully Paid':0, 'Default':1})\n",
      "<ipython-input-8-52aa32fe94d0>:3: SettingWithCopyWarning: \n",
      "A value is trying to be set on a copy of a slice from a DataFrame.\n",
      "Try using .loc[row_indexer,col_indexer] = value instead\n",
      "\n",
      "See the caveats in the documentation: https://pandas.pydata.org/pandas-docs/stable/user_guide/indexing.html#returning-a-view-versus-a-copy\n",
      "  test['loan_status'] = test['loan_status'].map({'Fully Paid':0, 'Default':1})\n"
     ]
    }
   ],
   "source": [
    "# Convert to integers\n",
    "train['loan_status'] = train['loan_status'].map({'Fully Paid':0, 'Default':1})\n",
    "test['loan_status'] = test['loan_status'].map({'Fully Paid':0, 'Default':1})"
   ]
  },
  {
   "cell_type": "code",
   "execution_count": 9,
   "metadata": {},
   "outputs": [],
   "source": [
    "# Select potential Predictors\n",
    "# Changes these to proper names\n",
    "column_selected = ['loan_status','annual_inc','chargeoff_within_12_mths',\n",
    "                  'avg_cur_bal','int_rate','home_ownership',\n",
    "                 'num_actv_bc_tl','num_actv_rev_tl','funded_amnt','grade','fico_range_high','tot_hi_cred_lim','last_fico_range_high','recoveries','total_rec_prncp']\n",
    "data_selected = train[column_selected]"
   ]
  },
  {
   "cell_type": "code",
   "execution_count": 10,
   "metadata": {},
   "outputs": [
    {
     "name": "stderr",
     "output_type": "stream",
     "text": [
      "<ipython-input-10-d9ec94c2ff2b>:3: SettingWithCopyWarning: \n",
      "A value is trying to be set on a copy of a slice from a DataFrame.\n",
      "Try using .loc[row_indexer,col_indexer] = value instead\n",
      "\n",
      "See the caveats in the documentation: https://pandas.pydata.org/pandas-docs/stable/user_guide/indexing.html#returning-a-view-versus-a-copy\n",
      "  data_selected['home_ownership'] = data_selected['home_ownership'].replace(dist_lookup)\n",
      "<ipython-input-10-d9ec94c2ff2b>:4: SettingWithCopyWarning: \n",
      "A value is trying to be set on a copy of a slice from a DataFrame.\n",
      "Try using .loc[row_indexer,col_indexer] = value instead\n",
      "\n",
      "See the caveats in the documentation: https://pandas.pydata.org/pandas-docs/stable/user_guide/indexing.html#returning-a-view-versus-a-copy\n",
      "  data_selected['int_rate'] = data_selected['int_rate'].str.replace('%','').astype(float)\n",
      "<ipython-input-10-d9ec94c2ff2b>:5: SettingWithCopyWarning: \n",
      "A value is trying to be set on a copy of a slice from a DataFrame.\n",
      "Try using .loc[row_indexer,col_indexer] = value instead\n",
      "\n",
      "See the caveats in the documentation: https://pandas.pydata.org/pandas-docs/stable/user_guide/indexing.html#returning-a-view-versus-a-copy\n",
      "  data_selected['grade'] = data_selected['grade'].map({'G':0,'F':1,\"E\":2,\"D\":3,\"C\":4,\"B\":5,'A':6})\n"
     ]
    }
   ],
   "source": [
    "# Clean up variables from categories to integers\n",
    "dist_lookup = dict(zip(data_selected['home_ownership'].unique(), range(len(data_selected['home_ownership'].unique()))))\n",
    "data_selected['home_ownership'] = data_selected['home_ownership'].replace(dist_lookup)\n",
    "data_selected['int_rate'] = data_selected['int_rate'].str.replace('%','').astype(float)\n",
    "data_selected['grade'] = data_selected['grade'].map({'G':0,'F':1,\"E\":2,\"D\":3,\"C\":4,\"B\":5,'A':6})"
   ]
  },
  {
   "cell_type": "code",
   "execution_count": 11,
   "metadata": {},
   "outputs": [
    {
     "name": "stderr",
     "output_type": "stream",
     "text": [
      "<ipython-input-11-a12f82114419>:6: SettingWithCopyWarning: \n",
      "A value is trying to be set on a copy of a slice from a DataFrame.\n",
      "Try using .loc[row_indexer,col_indexer] = value instead\n",
      "\n",
      "See the caveats in the documentation: https://pandas.pydata.org/pandas-docs/stable/user_guide/indexing.html#returning-a-view-versus-a-copy\n",
      "  data_selected[column] = scale_column(data_selected[column])\n"
     ]
    }
   ],
   "source": [
    "# Scale data\n",
    "def scale_column(col):\n",
    "    return (col-np.mean(col))/np.std(col)\n",
    "for column in data_selected.columns:\n",
    "    if column not in ['loan_status','addr_state','home_ownership',]:\n",
    "        data_selected[column] = scale_column(data_selected[column])"
   ]
  },
  {
   "cell_type": "code",
   "execution_count": 12,
   "metadata": {},
   "outputs": [
    {
     "data": {
      "text/html": [
       "<div>\n",
       "<style scoped>\n",
       "    .dataframe tbody tr th:only-of-type {\n",
       "        vertical-align: middle;\n",
       "    }\n",
       "\n",
       "    .dataframe tbody tr th {\n",
       "        vertical-align: top;\n",
       "    }\n",
       "\n",
       "    .dataframe thead th {\n",
       "        text-align: right;\n",
       "    }\n",
       "</style>\n",
       "<table border=\"1\" class=\"dataframe\">\n",
       "  <thead>\n",
       "    <tr style=\"text-align: right;\">\n",
       "      <th></th>\n",
       "      <th>loan_status</th>\n",
       "      <th>annual_inc</th>\n",
       "      <th>chargeoff_within_12_mths</th>\n",
       "      <th>avg_cur_bal</th>\n",
       "      <th>int_rate</th>\n",
       "      <th>home_ownership</th>\n",
       "      <th>num_actv_bc_tl</th>\n",
       "      <th>num_actv_rev_tl</th>\n",
       "      <th>funded_amnt</th>\n",
       "      <th>grade</th>\n",
       "      <th>fico_range_high</th>\n",
       "      <th>tot_hi_cred_lim</th>\n",
       "      <th>last_fico_range_high</th>\n",
       "      <th>recoveries</th>\n",
       "      <th>total_rec_prncp</th>\n",
       "    </tr>\n",
       "  </thead>\n",
       "  <tbody>\n",
       "    <tr>\n",
       "      <th>2070</th>\n",
       "      <td>0</td>\n",
       "      <td>-0.305454</td>\n",
       "      <td>-0.094063</td>\n",
       "      <td>-0.598111</td>\n",
       "      <td>1.208020</td>\n",
       "      <td>0</td>\n",
       "      <td>-0.731208</td>\n",
       "      <td>-0.527487</td>\n",
       "      <td>0.600093</td>\n",
       "      <td>-0.923401</td>\n",
       "      <td>-0.273741</td>\n",
       "      <td>-0.874092</td>\n",
       "      <td>-0.167391</td>\n",
       "      <td>-0.260653</td>\n",
       "      <td>0.818930</td>\n",
       "    </tr>\n",
       "    <tr>\n",
       "      <th>3042</th>\n",
       "      <td>0</td>\n",
       "      <td>-0.278077</td>\n",
       "      <td>-0.094063</td>\n",
       "      <td>1.782754</td>\n",
       "      <td>-1.106516</td>\n",
       "      <td>1</td>\n",
       "      <td>-1.165907</td>\n",
       "      <td>-1.113945</td>\n",
       "      <td>-0.153148</td>\n",
       "      <td>1.379555</td>\n",
       "      <td>3.522184</td>\n",
       "      <td>1.020272</td>\n",
       "      <td>1.456398</td>\n",
       "      <td>-0.260653</td>\n",
       "      <td>0.092711</td>\n",
       "    </tr>\n",
       "    <tr>\n",
       "      <th>2586</th>\n",
       "      <td>0</td>\n",
       "      <td>0.108372</td>\n",
       "      <td>-0.094063</td>\n",
       "      <td>1.549160</td>\n",
       "      <td>0.462818</td>\n",
       "      <td>1</td>\n",
       "      <td>-0.731208</td>\n",
       "      <td>0.058971</td>\n",
       "      <td>-1.285951</td>\n",
       "      <td>-0.155749</td>\n",
       "      <td>0.551460</td>\n",
       "      <td>2.446066</td>\n",
       "      <td>0.674574</td>\n",
       "      <td>-0.260653</td>\n",
       "      <td>-0.999454</td>\n",
       "    </tr>\n",
       "    <tr>\n",
       "      <th>2279</th>\n",
       "      <td>1</td>\n",
       "      <td>-0.873145</td>\n",
       "      <td>-0.094063</td>\n",
       "      <td>-0.490689</td>\n",
       "      <td>1.140696</td>\n",
       "      <td>2</td>\n",
       "      <td>-0.731208</td>\n",
       "      <td>-0.527487</td>\n",
       "      <td>-1.624321</td>\n",
       "      <td>-0.923401</td>\n",
       "      <td>-1.098942</td>\n",
       "      <td>-0.846467</td>\n",
       "      <td>-1.670898</td>\n",
       "      <td>-0.102151</td>\n",
       "      <td>-1.461288</td>\n",
       "    </tr>\n",
       "    <tr>\n",
       "      <th>575</th>\n",
       "      <td>1</td>\n",
       "      <td>-0.670809</td>\n",
       "      <td>-0.094063</td>\n",
       "      <td>-0.707030</td>\n",
       "      <td>0.541749</td>\n",
       "      <td>2</td>\n",
       "      <td>-0.731208</td>\n",
       "      <td>-0.820716</td>\n",
       "      <td>-0.974063</td>\n",
       "      <td>-0.155749</td>\n",
       "      <td>-0.603821</td>\n",
       "      <td>-0.934516</td>\n",
       "      <td>-0.768794</td>\n",
       "      <td>0.065293</td>\n",
       "      <td>-1.119573</td>\n",
       "    </tr>\n",
       "  </tbody>\n",
       "</table>\n",
       "</div>"
      ],
      "text/plain": [
       "      loan_status  annual_inc  chargeoff_within_12_mths  avg_cur_bal  \\\n",
       "2070            0   -0.305454                 -0.094063    -0.598111   \n",
       "3042            0   -0.278077                 -0.094063     1.782754   \n",
       "2586            0    0.108372                 -0.094063     1.549160   \n",
       "2279            1   -0.873145                 -0.094063    -0.490689   \n",
       "575             1   -0.670809                 -0.094063    -0.707030   \n",
       "\n",
       "      int_rate  home_ownership  num_actv_bc_tl  num_actv_rev_tl  funded_amnt  \\\n",
       "2070  1.208020               0       -0.731208        -0.527487     0.600093   \n",
       "3042 -1.106516               1       -1.165907        -1.113945    -0.153148   \n",
       "2586  0.462818               1       -0.731208         0.058971    -1.285951   \n",
       "2279  1.140696               2       -0.731208        -0.527487    -1.624321   \n",
       "575   0.541749               2       -0.731208        -0.820716    -0.974063   \n",
       "\n",
       "         grade  fico_range_high  tot_hi_cred_lim  last_fico_range_high  \\\n",
       "2070 -0.923401        -0.273741        -0.874092             -0.167391   \n",
       "3042  1.379555         3.522184         1.020272              1.456398   \n",
       "2586 -0.155749         0.551460         2.446066              0.674574   \n",
       "2279 -0.923401        -1.098942        -0.846467             -1.670898   \n",
       "575  -0.155749        -0.603821        -0.934516             -0.768794   \n",
       "\n",
       "      recoveries  total_rec_prncp  \n",
       "2070   -0.260653         0.818930  \n",
       "3042   -0.260653         0.092711  \n",
       "2586   -0.260653        -0.999454  \n",
       "2279   -0.102151        -1.461288  \n",
       "575     0.065293        -1.119573  "
      ]
     },
     "execution_count": 12,
     "metadata": {},
     "output_type": "execute_result"
    }
   ],
   "source": [
    "data_selected.head()"
   ]
  },
  {
   "cell_type": "markdown",
   "metadata": {},
   "source": [
    "## Data Visualization"
   ]
  },
  {
   "cell_type": "code",
   "execution_count": 13,
   "metadata": {},
   "outputs": [
    {
     "data": {
      "text/plain": [
       "Text(0.5, 1.0, 'Correlation Between Personal Economic Indicators')"
      ]
     },
     "execution_count": 13,
     "metadata": {},
     "output_type": "execute_result"
    },
    {
     "data": {
      "image/png": "[encoded data removed]",
      "text/plain": [
       "<Figure size 720x576 with 2 Axes>"
      ]
     },
     "metadata": {
      "needs_background": "light"
     },
     "output_type": "display_data"
    }
   ],
   "source": [
    "correlation = data_selected.corr()\n",
    "from matplotlib import pyplot as plt\n",
    "plt.figure(figsize = (10,8))\n",
    "sns.heatmap(correlation,annot =True,center = 0)\n",
    "plt.title('Correlation Between Personal Economic Indicators')"
   ]
  },
  {
   "cell_type": "markdown",
   "metadata": {},
   "source": [
    "#### Interest Rate"
   ]
  },
  {
   "cell_type": "code",
   "execution_count": 14,
   "metadata": {},
   "outputs": [
    {
     "data": {
      "text/plain": [
       "Text(0.5, 0.98, 'Interest Rate vs. Default rate for loans')"
      ]
     },
     "execution_count": 14,
     "metadata": {},
     "output_type": "execute_result"
    },
    {
     "data": {
      "image/png": "[encoded data removed]",
      "text/plain": [
       "<Figure size 432x288 with 1 Axes>"
      ]
     },
     "metadata": {
      "needs_background": "light"
     },
     "output_type": "display_data"
    }
   ],
   "source": [
    "fig, ax = plt.subplots()\n",
    "\n",
    "sns.kdeplot(data_selected[data_selected['loan_status']==1]['int_rate'], shade=True, color=\"blue\", label=\"default\", ax=ax)\n",
    "sns.kdeplot(data_selected[data_selected['loan_status']==0]['int_rate'], shade=True, color=\"green\", label=\"fully paid\", ax=ax)\n",
    "\n",
    "ax.set_xlabel(\"Interest rate\")\n",
    "ax.set_ylabel(\"Density\")\n",
    "\n",
    "fig.suptitle(\"Interest Rate vs. Default rate for loans\")"
   ]
  },
  {
   "cell_type": "markdown",
   "metadata": {},
   "source": [
    "#### Average current Balance"
   ]
  },
  {
   "cell_type": "code",
   "execution_count": 15,
   "metadata": {},
   "outputs": [
    {
     "data": {
      "text/plain": [
       "Text(0.5, 0.98, 'Average current Balance vs. Default rate for loans')"
      ]
     },
     "execution_count": 15,
     "metadata": {},
     "output_type": "execute_result"
    },
    {
     "data": {
      "image/png": "[encoded data removed]",
      "text/plain": [
       "<Figure size 432x288 with 1 Axes>"
      ]
     },
     "metadata": {
      "needs_background": "light"
     },
     "output_type": "display_data"
    }
   ],
   "source": [
    "fig, ax = plt.subplots()\n",
    "\n",
    "sns.kdeplot(data_selected[data_selected['loan_status']==1]['funded_amnt'], shade=True, color=\"blue\", label=\"default\", ax=ax)\n",
    "sns.kdeplot(data_selected[data_selected['loan_status']==0]['funded_amnt'], shade=True, color=\"green\", label=\"fully paid\", ax=ax)\n",
    "\n",
    "ax.set_xlabel(\"Funded Amount\")\n",
    "ax.set_ylabel(\"Density\")\n",
    "\n",
    "fig.suptitle(\"Average current Balance vs. Default rate for loans\")"
   ]
  },
  {
   "cell_type": "markdown",
   "metadata": {},
   "source": [
    "#### Number of currently active bankcard accounts"
   ]
  },
  {
   "cell_type": "code",
   "execution_count": 16,
   "metadata": {},
   "outputs": [
    {
     "data": {
      "text/plain": [
       "Text(0.5, 0.98, 'Number of currently active bankcard accounts vs. Default rate for loans')"
      ]
     },
     "execution_count": 16,
     "metadata": {},
     "output_type": "execute_result"
    },
    {
     "data": {
      "image/png": "[encoded data removed]",
      "text/plain": [
       "<Figure size 432x288 with 1 Axes>"
      ]
     },
     "metadata": {
      "needs_background": "light"
     },
     "output_type": "display_data"
    }
   ],
   "source": [
    "fig, ax = plt.subplots()\n",
    "\n",
    "sns.kdeplot(data_selected[data_selected['loan_status']==1]['num_actv_rev_tl'], shade=True, color=\"blue\", label=\"default\", ax=ax)\n",
    "sns.kdeplot(data_selected[data_selected['loan_status']==0]['num_actv_rev_tl'], shade=True, color=\"green\", label=\"fully paid\", ax=ax)\n",
    "\n",
    "ax.set_xlabel(\"Number of currently active bankcard accounts\")\n",
    "ax.set_ylabel(\"Density\")\n",
    "\n",
    "fig.suptitle(\"Number of currently active bankcard accounts vs. Default rate for loans\")"
   ]
  },
  {
   "cell_type": "markdown",
   "metadata": {},
   "source": [
    "#### The upper boundary borrower’s FICO at loan origination belongs to"
   ]
  },
  {
   "cell_type": "code",
   "execution_count": 17,
   "metadata": {},
   "outputs": [
    {
     "data": {
      "text/plain": [
       "Text(0.5, 0.98, 'The upper boundary range borrower’s FICO at loan origination belongs to vs. Default rate for loans')"
      ]
     },
     "execution_count": 17,
     "metadata": {},
     "output_type": "execute_result"
    },
    {
     "data": {
      "image/png": "[encoded data removed]",
      "text/plain": [
       "<Figure size 432x288 with 1 Axes>"
      ]
     },
     "metadata": {
      "needs_background": "light"
     },
     "output_type": "display_data"
    }
   ],
   "source": [
    "fig, ax = plt.subplots()\n",
    "\n",
    "sns.kdeplot(data_selected[data_selected['loan_status']==1]['fico_range_high'], shade=True, color=\"blue\", label=\"default\", ax=ax)\n",
    "sns.kdeplot(data_selected[data_selected['loan_status']==0]['fico_range_high'], shade=True, color=\"green\", label=\"fully paid\", ax=ax)\n",
    "\n",
    "ax.set_xlabel(\"Funded Amount\")\n",
    "ax.set_ylabel(\"Density\")\n",
    "\n",
    "fig.suptitle(\"The upper boundary range borrower’s FICO at loan origination belongs to vs. Default rate for loans\")"
   ]
  },
  {
   "cell_type": "markdown",
   "metadata": {},
   "source": [
    "#### Total revolving high credit/credit limit"
   ]
  },
  {
   "cell_type": "code",
   "execution_count": 18,
   "metadata": {},
   "outputs": [
    {
     "data": {
      "text/plain": [
       "Text(0.5, 0.98, 'Total revolving high credit/credit limit vs. Default rate for loans')"
      ]
     },
     "execution_count": 18,
     "metadata": {},
     "output_type": "execute_result"
    },
    {
     "data": {
      "image/png": "[encoded data removed]",
      "text/plain": [
       "<Figure size 432x288 with 1 Axes>"
      ]
     },
     "metadata": {
      "needs_background": "light"
     },
     "output_type": "display_data"
    }
   ],
   "source": [
    "fig, ax = plt.subplots()\n",
    "\n",
    "sns.kdeplot(data_selected[data_selected['loan_status']==1]['total_rec_prncp'], shade=True, color=\"blue\", label=\"default\", ax=ax)\n",
    "sns.kdeplot(data_selected[data_selected['loan_status']==0]['total_rec_prncp'], shade=True, color=\"green\", label=\"fully paid\", ax=ax)\n",
    "\n",
    "ax.set_xlabel(\"Funded Amount\")\n",
    "ax.set_ylabel(\"Density\")\n",
    "\n",
    "fig.suptitle(\"Total revolving high credit/credit limit vs. Default rate for loans\")"
   ]
  },
  {
   "cell_type": "markdown",
   "metadata": {},
   "source": [
    "#### Home ownership status"
   ]
  },
  {
   "cell_type": "code",
   "execution_count": 19,
   "metadata": {},
   "outputs": [
    {
     "data": {
      "text/html": [
       "<div>\n",
       "<style scoped>\n",
       "    .dataframe tbody tr th:only-of-type {\n",
       "        vertical-align: middle;\n",
       "    }\n",
       "\n",
       "    .dataframe tbody tr th {\n",
       "        vertical-align: top;\n",
       "    }\n",
       "\n",
       "    .dataframe thead th {\n",
       "        text-align: right;\n",
       "    }\n",
       "</style>\n",
       "<table border=\"1\" class=\"dataframe\">\n",
       "  <thead>\n",
       "    <tr style=\"text-align: right;\">\n",
       "      <th></th>\n",
       "      <th>home_ownership</th>\n",
       "      <th>loan_status</th>\n",
       "      <th>count</th>\n",
       "    </tr>\n",
       "  </thead>\n",
       "  <tbody>\n",
       "    <tr>\n",
       "      <th>0</th>\n",
       "      <td>MORTGAGE</td>\n",
       "      <td>0</td>\n",
       "      <td>2093</td>\n",
       "    </tr>\n",
       "    <tr>\n",
       "      <th>1</th>\n",
       "      <td>MORTGAGE</td>\n",
       "      <td>1</td>\n",
       "      <td>450</td>\n",
       "    </tr>\n",
       "    <tr>\n",
       "      <th>2</th>\n",
       "      <td>OWN</td>\n",
       "      <td>0</td>\n",
       "      <td>430</td>\n",
       "    </tr>\n",
       "    <tr>\n",
       "      <th>3</th>\n",
       "      <td>OWN</td>\n",
       "      <td>1</td>\n",
       "      <td>114</td>\n",
       "    </tr>\n",
       "    <tr>\n",
       "      <th>4</th>\n",
       "      <td>RENT</td>\n",
       "      <td>0</td>\n",
       "      <td>1523</td>\n",
       "    </tr>\n",
       "    <tr>\n",
       "      <th>5</th>\n",
       "      <td>RENT</td>\n",
       "      <td>1</td>\n",
       "      <td>442</td>\n",
       "    </tr>\n",
       "  </tbody>\n",
       "</table>\n",
       "</div>"
      ],
      "text/plain": [
       "  home_ownership  loan_status  count\n",
       "0       MORTGAGE            0   2093\n",
       "1       MORTGAGE            1    450\n",
       "2            OWN            0    430\n",
       "3            OWN            1    114\n",
       "4           RENT            0   1523\n",
       "5           RENT            1    442"
      ]
     },
     "execution_count": 19,
     "metadata": {},
     "output_type": "execute_result"
    }
   ],
   "source": [
    "home_default = train.groupby(['home_ownership','loan_status']).size().reset_index()\n",
    "home_default = home_default.rename({0:'count'},axis =1)\n",
    "home_default"
   ]
  },
  {
   "cell_type": "code",
   "execution_count": 20,
   "metadata": {},
   "outputs": [
    {
     "data": {
      "image/png": "[encoded data removed]",
      "text/plain": [
       "<Figure size 720x432 with 1 Axes>"
      ]
     },
     "metadata": {
      "needs_background": "light"
     },
     "output_type": "display_data"
    }
   ],
   "source": [
    "plt.figure(figsize = (10,6))\n",
    "\n",
    "home_plot = sns.barplot(x = \"home_ownership\", y = 'count',hue=\"loan_status\", data=home_default,orient = 'v',palette = {'blue','green'})\n",
    "plt.xlabel(\"home_ownership Class\")\n",
    "plt.title(\"home owndership Class vs. Default\")\n",
    "\n",
    "for rect in home_plot.patches:\n",
    "    xcoor = rect.get_x() + 0.5 * rect.get_width()\n",
    "    ycoor = rect.get_height()\n",
    "    plt.text(xcoor,ycoor,str(int(ycoor)),\n",
    "            horizontalalignment = 'center',\n",
    "            verticalalignment = 'bottom',\n",
    "            fontsize = 14)"
   ]
  },
  {
   "cell_type": "code",
   "execution_count": 21,
   "metadata": {},
   "outputs": [
    {
     "data": {
      "text/html": [
       "<div>\n",
       "<style scoped>\n",
       "    .dataframe tbody tr th:only-of-type {\n",
       "        vertical-align: middle;\n",
       "    }\n",
       "\n",
       "    .dataframe tbody tr th {\n",
       "        vertical-align: top;\n",
       "    }\n",
       "\n",
       "    .dataframe thead th {\n",
       "        text-align: right;\n",
       "    }\n",
       "</style>\n",
       "<table border=\"1\" class=\"dataframe\">\n",
       "  <thead>\n",
       "    <tr style=\"text-align: right;\">\n",
       "      <th></th>\n",
       "      <th>loan_status</th>\n",
       "      <th>home_ownership</th>\n",
       "      <th>count</th>\n",
       "    </tr>\n",
       "  </thead>\n",
       "  <tbody>\n",
       "    <tr>\n",
       "      <th>0</th>\n",
       "      <td>0</td>\n",
       "      <td>MORTGAGE</td>\n",
       "      <td>2093</td>\n",
       "    </tr>\n",
       "    <tr>\n",
       "      <th>1</th>\n",
       "      <td>0</td>\n",
       "      <td>OWN</td>\n",
       "      <td>430</td>\n",
       "    </tr>\n",
       "    <tr>\n",
       "      <th>2</th>\n",
       "      <td>0</td>\n",
       "      <td>RENT</td>\n",
       "      <td>1523</td>\n",
       "    </tr>\n",
       "    <tr>\n",
       "      <th>3</th>\n",
       "      <td>1</td>\n",
       "      <td>MORTGAGE</td>\n",
       "      <td>450</td>\n",
       "    </tr>\n",
       "    <tr>\n",
       "      <th>4</th>\n",
       "      <td>1</td>\n",
       "      <td>OWN</td>\n",
       "      <td>114</td>\n",
       "    </tr>\n",
       "    <tr>\n",
       "      <th>5</th>\n",
       "      <td>1</td>\n",
       "      <td>RENT</td>\n",
       "      <td>442</td>\n",
       "    </tr>\n",
       "  </tbody>\n",
       "</table>\n",
       "</div>"
      ],
      "text/plain": [
       "   loan_status home_ownership  count\n",
       "0            0       MORTGAGE   2093\n",
       "1            0            OWN    430\n",
       "2            0           RENT   1523\n",
       "3            1       MORTGAGE    450\n",
       "4            1            OWN    114\n",
       "5            1           RENT    442"
      ]
     },
     "execution_count": 21,
     "metadata": {},
     "output_type": "execute_result"
    }
   ],
   "source": [
    "loan_home  =train.groupby(['loan_status','home_ownership']).size().reset_index()\n",
    "loan_home = loan_home.rename({0:'count'},axis =1)\n",
    "loan_home"
   ]
  },
  {
   "cell_type": "code",
   "execution_count": 22,
   "metadata": {},
   "outputs": [
    {
     "data": {
      "image/png": "[encoded data removed]",
      "text/plain": [
       "<Figure size 720x432 with 1 Axes>"
      ]
     },
     "metadata": {
      "needs_background": "light"
     },
     "output_type": "display_data"
    }
   ],
   "source": [
    "plt.figure(figsize = (10,6))\n",
    "home_plot2 = sns.barplot(x = 'loan_status', y ='count', hue = 'home_ownership', data = loan_home,orient = 'v')\n",
    "\n",
    "for rect in home_plot2.patches:\n",
    "    xcoor = rect.get_x() + 0.5 * rect.get_width()\n",
    "    ycoor = rect.get_height()\n",
    "    plt.text(xcoor,ycoor,str(int(ycoor)),\n",
    "            horizontalalignment = 'center',\n",
    "            verticalalignment = 'bottom',\n",
    "            fontsize = 14)"
   ]
  },
  {
   "cell_type": "markdown",
   "metadata": {
    "id": "sdJauYSOERHI"
   },
   "source": [
    "## Naive Bayes Classifier\n",
    "The Naive Bayes Classifier model is going to focus on the following variables: \n",
    "- `term`: Term of the load. \"36 months\" or \"60 months\"\n",
    "- `grade`: Load Grade, A to G\n",
    "- `sub_grade`: Each letter grade will have 6 subgrace, A1 to A6\n",
    "- `emp_title`: Title of the employment of the borrower\n",
    "- `emp_length`: The length of the employment\n",
    "- `home_ownership`: Whether the borrows own a home.\n",
    "- `purpose`: The purpose of taking the load\n",
    "- `addr_state`: The state of the residence for the borrower.\n"
   ]
  },
  {
   "cell_type": "code",
   "execution_count": 23,
   "metadata": {
    "colab": {
     "base_uri": "https://localhost:8080/",
     "height": 195
    },
    "id": "WVVGjZa2KJAQ",
    "outputId": "4aa8aae0-32b6-4ac3-e7e5-431e1d49f9f1"
   },
   "outputs": [
    {
     "data": {
      "text/html": [
       "<div>\n",
       "<style scoped>\n",
       "    .dataframe tbody tr th:only-of-type {\n",
       "        vertical-align: middle;\n",
       "    }\n",
       "\n",
       "    .dataframe tbody tr th {\n",
       "        vertical-align: top;\n",
       "    }\n",
       "\n",
       "    .dataframe thead th {\n",
       "        text-align: right;\n",
       "    }\n",
       "</style>\n",
       "<table border=\"1\" class=\"dataframe\">\n",
       "  <thead>\n",
       "    <tr style=\"text-align: right;\">\n",
       "      <th></th>\n",
       "      <th>loan_status</th>\n",
       "      <th>term</th>\n",
       "      <th>grade</th>\n",
       "      <th>sub_grade</th>\n",
       "      <th>emp_length</th>\n",
       "      <th>home_ownership</th>\n",
       "      <th>purpose</th>\n",
       "      <th>addr_state</th>\n",
       "    </tr>\n",
       "  </thead>\n",
       "  <tbody>\n",
       "    <tr>\n",
       "      <th>2070</th>\n",
       "      <td>0</td>\n",
       "      <td>36 months</td>\n",
       "      <td>D</td>\n",
       "      <td>D5</td>\n",
       "      <td>NA</td>\n",
       "      <td>RENT</td>\n",
       "      <td>other</td>\n",
       "      <td>CA</td>\n",
       "    </tr>\n",
       "    <tr>\n",
       "      <th>3042</th>\n",
       "      <td>0</td>\n",
       "      <td>36 months</td>\n",
       "      <td>A</td>\n",
       "      <td>A5</td>\n",
       "      <td>4 years</td>\n",
       "      <td>MORTGAGE</td>\n",
       "      <td>house</td>\n",
       "      <td>CO</td>\n",
       "    </tr>\n",
       "    <tr>\n",
       "      <th>2586</th>\n",
       "      <td>0</td>\n",
       "      <td>36 months</td>\n",
       "      <td>C</td>\n",
       "      <td>C5</td>\n",
       "      <td>10+ years</td>\n",
       "      <td>MORTGAGE</td>\n",
       "      <td>home_improvement</td>\n",
       "      <td>NY</td>\n",
       "    </tr>\n",
       "    <tr>\n",
       "      <th>2279</th>\n",
       "      <td>1</td>\n",
       "      <td>36 months</td>\n",
       "      <td>D</td>\n",
       "      <td>D4</td>\n",
       "      <td>NA</td>\n",
       "      <td>OWN</td>\n",
       "      <td>debt_consolidation</td>\n",
       "      <td>WY</td>\n",
       "    </tr>\n",
       "    <tr>\n",
       "      <th>575</th>\n",
       "      <td>1</td>\n",
       "      <td>36 months</td>\n",
       "      <td>C</td>\n",
       "      <td>C5</td>\n",
       "      <td>&lt; 1 year</td>\n",
       "      <td>OWN</td>\n",
       "      <td>debt_consolidation</td>\n",
       "      <td>LA</td>\n",
       "    </tr>\n",
       "  </tbody>\n",
       "</table>\n",
       "</div>"
      ],
      "text/plain": [
       "      loan_status        term grade sub_grade emp_length home_ownership  \\\n",
       "2070            0   36 months     D        D5         NA           RENT   \n",
       "3042            0   36 months     A        A5    4 years       MORTGAGE   \n",
       "2586            0   36 months     C        C5  10+ years       MORTGAGE   \n",
       "2279            1   36 months     D        D4         NA            OWN   \n",
       "575             1   36 months     C        C5   < 1 year            OWN   \n",
       "\n",
       "                 purpose addr_state  \n",
       "2070               other         CA  \n",
       "3042               house         CO  \n",
       "2586    home_improvement         NY  \n",
       "2279  debt_consolidation         WY  \n",
       "575   debt_consolidation         LA  "
      ]
     },
     "execution_count": 23,
     "metadata": {},
     "output_type": "execute_result"
    }
   ],
   "source": [
    "# Select the categorical variable from the training data \n",
    "naive_column = [ 'loan_status', 'term','grade','sub_grade','emp_length','home_ownership','purpose','addr_state']\n",
    "train_naive = train[naive_column].fillna('NA')\n",
    "train_naive.head()"
   ]
  },
  {
   "cell_type": "code",
   "execution_count": 24,
   "metadata": {
    "colab": {
     "base_uri": "https://localhost:8080/",
     "height": 195
    },
    "id": "rL5j31QAvF_B",
    "outputId": "c12f6aa4-b4b7-43b2-be64-dd5b6a7dc335"
   },
   "outputs": [
    {
     "data": {
      "text/html": [
       "<div>\n",
       "<style scoped>\n",
       "    .dataframe tbody tr th:only-of-type {\n",
       "        vertical-align: middle;\n",
       "    }\n",
       "\n",
       "    .dataframe tbody tr th {\n",
       "        vertical-align: top;\n",
       "    }\n",
       "\n",
       "    .dataframe thead th {\n",
       "        text-align: right;\n",
       "    }\n",
       "</style>\n",
       "<table border=\"1\" class=\"dataframe\">\n",
       "  <thead>\n",
       "    <tr style=\"text-align: right;\">\n",
       "      <th></th>\n",
       "      <th>loan_status</th>\n",
       "      <th>term</th>\n",
       "      <th>grade</th>\n",
       "      <th>sub_grade</th>\n",
       "      <th>emp_length</th>\n",
       "      <th>home_ownership</th>\n",
       "      <th>purpose</th>\n",
       "      <th>addr_state</th>\n",
       "    </tr>\n",
       "  </thead>\n",
       "  <tbody>\n",
       "    <tr>\n",
       "      <th>0</th>\n",
       "      <td>0</td>\n",
       "      <td>term_ 36 months</td>\n",
       "      <td>grade_D</td>\n",
       "      <td>sub_grade_D5</td>\n",
       "      <td>emp_length_NA</td>\n",
       "      <td>home_ownership_RENT</td>\n",
       "      <td>purpose_other</td>\n",
       "      <td>addr_state_CA</td>\n",
       "    </tr>\n",
       "    <tr>\n",
       "      <th>1</th>\n",
       "      <td>0</td>\n",
       "      <td>term_ 36 months</td>\n",
       "      <td>grade_A</td>\n",
       "      <td>sub_grade_A5</td>\n",
       "      <td>emp_length_4 years</td>\n",
       "      <td>home_ownership_MORTGAGE</td>\n",
       "      <td>purpose_house</td>\n",
       "      <td>addr_state_CO</td>\n",
       "    </tr>\n",
       "    <tr>\n",
       "      <th>2</th>\n",
       "      <td>0</td>\n",
       "      <td>term_ 36 months</td>\n",
       "      <td>grade_C</td>\n",
       "      <td>sub_grade_C5</td>\n",
       "      <td>emp_length_10+ years</td>\n",
       "      <td>home_ownership_MORTGAGE</td>\n",
       "      <td>purpose_home_improvement</td>\n",
       "      <td>addr_state_NY</td>\n",
       "    </tr>\n",
       "    <tr>\n",
       "      <th>3</th>\n",
       "      <td>1</td>\n",
       "      <td>term_ 36 months</td>\n",
       "      <td>grade_D</td>\n",
       "      <td>sub_grade_D4</td>\n",
       "      <td>emp_length_NA</td>\n",
       "      <td>home_ownership_OWN</td>\n",
       "      <td>purpose_debt_consolidation</td>\n",
       "      <td>addr_state_WY</td>\n",
       "    </tr>\n",
       "    <tr>\n",
       "      <th>4</th>\n",
       "      <td>1</td>\n",
       "      <td>term_ 36 months</td>\n",
       "      <td>grade_C</td>\n",
       "      <td>sub_grade_C5</td>\n",
       "      <td>emp_length_&lt; 1 year</td>\n",
       "      <td>home_ownership_OWN</td>\n",
       "      <td>purpose_debt_consolidation</td>\n",
       "      <td>addr_state_LA</td>\n",
       "    </tr>\n",
       "  </tbody>\n",
       "</table>\n",
       "</div>"
      ],
      "text/plain": [
       "   loan_status             term    grade     sub_grade            emp_length  \\\n",
       "0            0  term_ 36 months  grade_D  sub_grade_D5         emp_length_NA   \n",
       "1            0  term_ 36 months  grade_A  sub_grade_A5    emp_length_4 years   \n",
       "2            0  term_ 36 months  grade_C  sub_grade_C5  emp_length_10+ years   \n",
       "3            1  term_ 36 months  grade_D  sub_grade_D4         emp_length_NA   \n",
       "4            1  term_ 36 months  grade_C  sub_grade_C5   emp_length_< 1 year   \n",
       "\n",
       "            home_ownership                     purpose     addr_state  \n",
       "0      home_ownership_RENT               purpose_other  addr_state_CA  \n",
       "1  home_ownership_MORTGAGE               purpose_house  addr_state_CO  \n",
       "2  home_ownership_MORTGAGE    purpose_home_improvement  addr_state_NY  \n",
       "3       home_ownership_OWN  purpose_debt_consolidation  addr_state_WY  \n",
       "4       home_ownership_OWN  purpose_debt_consolidation  addr_state_LA  "
      ]
     },
     "execution_count": 24,
     "metadata": {},
     "output_type": "execute_result"
    }
   ],
   "source": [
    "# Add Column Names to each of the values within that column\n",
    "d_train = dict()\n",
    "d_train['loan_status'] = list(train_naive.iloc[:, 0])\n",
    "\n",
    "for i in range(1, len(train_naive.keys())):\n",
    "    d_train[train_naive.keys()[i]] = list(train_naive.keys()[i] + \"_\" + train_naive.iloc[:, i])\n",
    "\n",
    "new_train = pd.DataFrame(data = d_train)\n",
    "new_train.head()"
   ]
  },
  {
   "cell_type": "code",
   "execution_count": 25,
   "metadata": {
    "colab": {
     "base_uri": "https://localhost:8080/",
     "height": 195
    },
    "id": "hBI5DXrAvmi8",
    "outputId": "64778b08-23aa-400c-f860-fdd64743a615"
   },
   "outputs": [
    {
     "data": {
      "text/html": [
       "<div>\n",
       "<style scoped>\n",
       "    .dataframe tbody tr th:only-of-type {\n",
       "        vertical-align: middle;\n",
       "    }\n",
       "\n",
       "    .dataframe tbody tr th {\n",
       "        vertical-align: top;\n",
       "    }\n",
       "\n",
       "    .dataframe thead th {\n",
       "        text-align: right;\n",
       "    }\n",
       "</style>\n",
       "<table border=\"1\" class=\"dataframe\">\n",
       "  <thead>\n",
       "    <tr style=\"text-align: right;\">\n",
       "      <th></th>\n",
       "      <th>loan_status</th>\n",
       "      <th>term</th>\n",
       "      <th>grade</th>\n",
       "      <th>sub_grade</th>\n",
       "      <th>emp_length</th>\n",
       "      <th>home_ownership</th>\n",
       "      <th>purpose</th>\n",
       "      <th>addr_state</th>\n",
       "    </tr>\n",
       "  </thead>\n",
       "  <tbody>\n",
       "    <tr>\n",
       "      <th>0</th>\n",
       "      <td>0</td>\n",
       "      <td>term_ 60 months</td>\n",
       "      <td>grade_E</td>\n",
       "      <td>sub_grade_E2</td>\n",
       "      <td>emp_length_5 years</td>\n",
       "      <td>home_ownership_OWN</td>\n",
       "      <td>purpose_debt_consolidation</td>\n",
       "      <td>addr_state_CA</td>\n",
       "    </tr>\n",
       "    <tr>\n",
       "      <th>1</th>\n",
       "      <td>1</td>\n",
       "      <td>term_ 60 months</td>\n",
       "      <td>grade_F</td>\n",
       "      <td>sub_grade_F1</td>\n",
       "      <td>emp_length_3 years</td>\n",
       "      <td>home_ownership_RENT</td>\n",
       "      <td>purpose_other</td>\n",
       "      <td>addr_state_GA</td>\n",
       "    </tr>\n",
       "    <tr>\n",
       "      <th>2</th>\n",
       "      <td>0</td>\n",
       "      <td>term_ 60 months</td>\n",
       "      <td>grade_C</td>\n",
       "      <td>sub_grade_C4</td>\n",
       "      <td>emp_length_6 years</td>\n",
       "      <td>home_ownership_OWN</td>\n",
       "      <td>purpose_debt_consolidation</td>\n",
       "      <td>addr_state_NY</td>\n",
       "    </tr>\n",
       "    <tr>\n",
       "      <th>3</th>\n",
       "      <td>1</td>\n",
       "      <td>term_ 36 months</td>\n",
       "      <td>grade_B</td>\n",
       "      <td>sub_grade_B4</td>\n",
       "      <td>emp_length_10+ years</td>\n",
       "      <td>home_ownership_MORTGAGE</td>\n",
       "      <td>purpose_debt_consolidation</td>\n",
       "      <td>addr_state_MO</td>\n",
       "    </tr>\n",
       "    <tr>\n",
       "      <th>4</th>\n",
       "      <td>0</td>\n",
       "      <td>term_ 36 months</td>\n",
       "      <td>grade_A</td>\n",
       "      <td>sub_grade_A3</td>\n",
       "      <td>emp_length_10+ years</td>\n",
       "      <td>home_ownership_RENT</td>\n",
       "      <td>purpose_credit_card</td>\n",
       "      <td>addr_state_NY</td>\n",
       "    </tr>\n",
       "  </tbody>\n",
       "</table>\n",
       "</div>"
      ],
      "text/plain": [
       "   loan_status             term    grade     sub_grade            emp_length  \\\n",
       "0            0  term_ 60 months  grade_E  sub_grade_E2    emp_length_5 years   \n",
       "1            1  term_ 60 months  grade_F  sub_grade_F1    emp_length_3 years   \n",
       "2            0  term_ 60 months  grade_C  sub_grade_C4    emp_length_6 years   \n",
       "3            1  term_ 36 months  grade_B  sub_grade_B4  emp_length_10+ years   \n",
       "4            0  term_ 36 months  grade_A  sub_grade_A3  emp_length_10+ years   \n",
       "\n",
       "            home_ownership                     purpose     addr_state  \n",
       "0       home_ownership_OWN  purpose_debt_consolidation  addr_state_CA  \n",
       "1      home_ownership_RENT               purpose_other  addr_state_GA  \n",
       "2       home_ownership_OWN  purpose_debt_consolidation  addr_state_NY  \n",
       "3  home_ownership_MORTGAGE  purpose_debt_consolidation  addr_state_MO  \n",
       "4      home_ownership_RENT         purpose_credit_card  addr_state_NY  "
      ]
     },
     "execution_count": 25,
     "metadata": {},
     "output_type": "execute_result"
    }
   ],
   "source": [
    "# Perform the same data transformation on Test data\n",
    "test_naive = test[naive_column].fillna('NA')\n",
    "d_test = dict()\n",
    "d_test['loan_status'] = list(test_naive.iloc[:, 0])\n",
    "\n",
    "for i in range(1, len(test_naive.keys())):\n",
    "    d_test[test_naive.keys()[i]] = list(test_naive.keys()[i] + \"_\" + test_naive.iloc[:, i])\n",
    "\n",
    "new_test = pd.DataFrame(data = d_test)\n",
    "new_test.head()"
   ]
  },
  {
   "cell_type": "code",
   "execution_count": 26,
   "metadata": {
    "id": "PkE7DJSryfvW"
   },
   "outputs": [],
   "source": [
    "# For Topic = Fully Paid\n",
    "# Create a train document of words\n",
    "train_FP_document = new_train[new_train['loan_status'] == 0]. \\\n",
    "    iloc[:, list(range(1,len(new_train.keys())))].values.ravel()\n",
    "\n",
    "# Count the number of features occured in training data for Fully Paid\n",
    "train_FP_count = dict()\n",
    "for i in train_FP_document:\n",
    "    if i not in train_FP_count:\n",
    "        train_FP_count[i] = 0\n",
    "    else:\n",
    "        train_FP_count[i] += 1\n",
    "        \n",
    "# Get the total number of words occured and number of unique features\n",
    "FP_total = sum(train_FP_count.values())\n",
    "FP_count = len(train_FP_count.keys())\n",
    "\n",
    "# Define alpha \n",
    "alpha = 1.5\n",
    "\n",
    "# Caculate the likelihood for each word in topic = edible\n",
    "for index, value in enumerate(train_FP_count):\n",
    "    train_FP_count[value] = (train_FP_count[value] + alpha) / \\\n",
    "          (FP_total + alpha * FP_count)"
   ]
  },
  {
   "cell_type": "code",
   "execution_count": 27,
   "metadata": {
    "id": "7kud27TIzPmi"
   },
   "outputs": [],
   "source": [
    "# For Topic = Default\n",
    "# Create a train document of words\n",
    "train_DT_document = new_train[new_train['loan_status'] == 1]. \\\n",
    "    iloc[:, list(range(1,len(new_train.keys())))].values.ravel()\n",
    "\n",
    "# Count the number of features occured in training data for Default\n",
    "train_DT_count = dict()\n",
    "for i in train_DT_document:\n",
    "    if i not in train_DT_count:\n",
    "        train_DT_count[i] = 0\n",
    "    else:\n",
    "        train_DT_count[i] += 1\n",
    "        \n",
    "# Get the total number of words occured and number of unique features\n",
    "DT_total = sum(train_DT_count.values())\n",
    "DT_count = len(train_DT_count.keys())\n",
    "\n",
    "# Caculate the likelihood for each word in topic = edible\n",
    "for index, value in enumerate(train_DT_count):\n",
    "    train_DT_count[value] = (train_DT_count[value] + alpha) / \\\n",
    "          (DT_total + alpha * DT_count)"
   ]
  },
  {
   "cell_type": "code",
   "execution_count": 28,
   "metadata": {
    "id": "RYfOoiGr1V86"
   },
   "outputs": [],
   "source": [
    "# Calculate the Posterior Probability for Training Data\n",
    "new_train_FP_post = list()\n",
    "new_train_DT_post = list()\n",
    "\n",
    "for row in range(0, len(new_train)):\n",
    "    FP_post = 1\n",
    "    DT_post = 1\n",
    "    for col in range(1, len(new_test.columns)):\n",
    "        if (new_train.iloc[row, col] in train_FP_count): \n",
    "            FP_post = FP_post * \\\n",
    "              train_FP_count[new_train.iloc[row, col]]\n",
    "        else:\n",
    "            FP_post = FP_post * \\\n",
    "                (0 + alpha) / (FP_total + alpha * FP_count)\n",
    "        \n",
    "        if (new_train.iloc[row, col] in train_DT_count): \n",
    "            DT_post = DT_post * \\\n",
    "                train_DT_count[new_train.iloc[row, col]]\n",
    "        else:\n",
    "            DT_post = DT_post * \\\n",
    "                (0 + alpha) / (DT_total + alpha * DT_count)\n",
    "\n",
    "    new_train_FP_post += [FP_post]   \n",
    "    new_train_DT_post += [DT_post]"
   ]
  },
  {
   "cell_type": "code",
   "execution_count": 29,
   "metadata": {
    "colab": {
     "base_uri": "https://localhost:8080/",
     "height": 136
    },
    "id": "0YRitDlv1DzY",
    "outputId": "9928a2b0-c90e-49a9-d0dd-f920918ab492",
    "scrolled": true
   },
   "outputs": [
    {
     "data": {
      "text/html": [
       "<div>\n",
       "<style scoped>\n",
       "    .dataframe tbody tr th:only-of-type {\n",
       "        vertical-align: middle;\n",
       "    }\n",
       "\n",
       "    .dataframe tbody tr th {\n",
       "        vertical-align: top;\n",
       "    }\n",
       "\n",
       "    .dataframe thead th {\n",
       "        text-align: right;\n",
       "    }\n",
       "</style>\n",
       "<table border=\"1\" class=\"dataframe\">\n",
       "  <thead>\n",
       "    <tr style=\"text-align: right;\">\n",
       "      <th>predict</th>\n",
       "      <th>0</th>\n",
       "      <th>1</th>\n",
       "    </tr>\n",
       "    <tr>\n",
       "      <th>actual</th>\n",
       "      <th></th>\n",
       "      <th></th>\n",
       "    </tr>\n",
       "  </thead>\n",
       "  <tbody>\n",
       "    <tr>\n",
       "      <th>0</th>\n",
       "      <td>2351</td>\n",
       "      <td>1695</td>\n",
       "    </tr>\n",
       "    <tr>\n",
       "      <th>1</th>\n",
       "      <td>282</td>\n",
       "      <td>724</td>\n",
       "    </tr>\n",
       "  </tbody>\n",
       "</table>\n",
       "</div>"
      ],
      "text/plain": [
       "predict     0     1\n",
       "actual             \n",
       "0        2351  1695\n",
       "1         282   724"
      ]
     },
     "execution_count": 29,
     "metadata": {},
     "output_type": "execute_result"
    }
   ],
   "source": [
    "# Create a confusion matrix to evaluate prediction accuracy\n",
    "actual = list()\n",
    "predict = list()\n",
    "for i in range(0, len(new_train)):\n",
    "    if new_train.iloc[i,0] == 1:\n",
    "        actual += [1]\n",
    "    else:\n",
    "        actual += [0]\n",
    "        \n",
    "    if new_train_DT_post[i] > new_train_FP_post[i]:\n",
    "        predict += [1]\n",
    "    else:\n",
    "        predict += [0]\n",
    "\n",
    "df_confusion = pd.crosstab(pd.Series(actual, name='actual'), pd.Series(predict, name='predict'))    \n",
    "df_confusion"
   ]
  },
  {
   "cell_type": "markdown",
   "metadata": {
    "id": "oESYOlVt-VLE"
   },
   "source": [
    "The total accuracy for the Naive Bayes Model is $$\\frac{2351 + 724}{2351 + 724 + 282 + 1695} = 60.87\\%$$\n"
   ]
  },
  {
   "cell_type": "markdown",
   "metadata": {
    "id": "yrbdhnhuEM5d"
   },
   "source": [
    "## Bayesian Logistic Regression\n"
   ]
  },
  {
   "cell_type": "markdown",
   "metadata": {
    "id": "nCrUxMTGobI8"
   },
   "source": [
    "For Bayesian Logistic Regression we will consider a full model and smaller models, removing correlated / statistically insignificant predictors."
   ]
  },
  {
   "cell_type": "code",
   "execution_count": null,
   "metadata": {
    "colab": {
     "base_uri": "https://localhost:8080/",
     "height": 511
    },
    "id": "51VzPCj0nWrk",
    "outputId": "1db5c4e9-2760-42b4-a457-decdff0125e9"
   },
   "outputs": [],
   "source": [
    "# Full Model Setup\n",
    "with pm.Model() as full_model_sample:\n",
    "    y = data_selected['loan_status']\n",
    "    # Model Betas as uninformed gaussians\n",
    "    b0 = pm.Normal('intercept', mu=0, sd=1e5) \n",
    "    b1 = pm.Normal('last_fico_range_high', mu=0, sd=1e5) \n",
    "    b2 = pm.Normal('total_rec_prncp', mu=0, sd=1e5)\n",
    "    b3 = pm.Normal('avg_cur_bal', mu=0, sd=1e5)\n",
    "    b4 = pm.Normal('int_rate', mu=0, sd=1e5)\n",
    "    b5 = pm.Normal('num_actv_bc_tl', mu=0, sd=1e5)\n",
    "    b6 = pm.Normal('num_actv_rev_tl', mu=0, sd=1e5)\n",
    "    b7 = pm.Normal('grade', mu=0, sd=1e5)\n",
    "    b8 = pm.Normal('fico_range_high', mu=0, sd=1e5)\n",
    "    b9 = pm.Normal('tot_hi_cred_lim', mu=0, sd=1e5)\n",
    "    # Calculate mu\n",
    "    mu = b0 + pm.math.dot(data_selected[\"last_fico_range_high\"], b1)+  pm.math.dot(data_selected[\"total_rec_prncp\"], b2)+ \\\n",
    "    pm.math.dot(data_selected[\"avg_cur_bal\"], b3)+  pm.math.dot(data_selected[\"int_rate\"], b4) + \\\n",
    "   pm.math.dot(data_selected[\"num_actv_bc_tl\"], b5) + \\\n",
    "    pm.math.dot(data_selected[\"num_actv_rev_tl\"], b6) +\\\n",
    "     pm.math.dot(data_selected[\"grade\"], b7) +  pm.math.dot(data_selected[\"fico_range_high\"], b8) +\\\n",
    "     pm.math.dot(data_selected[\"tot_hi_cred_lim\"], b9)\n",
    "    # Use inv logit function\n",
    "    theta = pm.Deterministic('theta',  pm.invlogit(mu))\n",
    "    # Calculate bernoulli\n",
    "    yl = pm.Bernoulli('Yl', p=theta, observed=y)\n",
    "    trace_full_sample = pm.sample(2000, tune=1500, init='adapt_diag', cores =4)\n",
    "    pm.traceplot(trace_full_sample,var_names=['intercept','last_fico_range_high','total_rec_prncp',\n",
    "                  'avg_cur_bal','int_rate',\n",
    "                 'num_actv_bc_tl','num_actv_rev_tl','grade','fico_range_high','tot_hi_cred_lim'])\n",
    "pm.model_to_graphviz(full_model_sample)"
   ]
  },
  {
   "cell_type": "code",
   "execution_count": null,
   "metadata": {},
   "outputs": [],
   "source": [
    "az.plot_forest(trace_full_sample, var_names=['intercept','last_fico_range_high','total_rec_prncp',\n",
    "                  'avg_cur_bal','int_rate',\n",
    "                 'num_actv_bc_tl','num_actv_rev_tl','grade','fico_range_high','tot_hi_cred_lim']);"
   ]
  },
  {
   "cell_type": "markdown",
   "metadata": {},
   "source": [
    "#### Prediction Results"
   ]
  },
  {
   "cell_type": "code",
   "execution_count": null,
   "metadata": {},
   "outputs": [],
   "source": [
    "soft_classification = trace_full_sample['theta'].mean(axis=0)\n",
    "hard_classification = np.array(list(map(lambda x: 1 if x >= .5 else 0,soft_classification)))\n",
    "n = len(hard_classification)\n",
    "np.sum(hard_classification == data_selected['loan_status']) /n\n"
   ]
  },
  {
   "cell_type": "code",
   "execution_count": null,
   "metadata": {},
   "outputs": [],
   "source": [
    "sklearn.metrics.confusion_matrix(data_selected['loan_status'],hard_classification )"
   ]
  },
  {
   "cell_type": "markdown",
   "metadata": {
    "id": "tSdhHl2Ej5aH"
   },
   "source": [
    "## Reduced Logistic Regression Model"
   ]
  },
  {
   "cell_type": "markdown",
   "metadata": {},
   "source": [
    "Created by removing not useful predictors with credible intervals overlapping 0 in the full model above"
   ]
  },
  {
   "cell_type": "code",
   "execution_count": null,
   "metadata": {},
   "outputs": [],
   "source": [
    "# Reduced Model Setup\n",
    "with pm.Model() as reduced_model_sample:\n",
    "    y = data_selected['loan_status']\n",
    "    # Model Betas as uninformed gaussians\n",
    "    b0 = pm.Normal('intercept', mu=0, sd=1e5) \n",
    "    b1 = pm.Normal('last_fico_range_high', mu=0, sd=1e5) \n",
    "    b2 = pm.Normal('total_rec_prncp', mu=0, sd=1e5)  \n",
    "    b3 = pm.Normal('num_actv_bc_tl', mu=0, sd=1e5)\n",
    "    b4 = pm.Normal('fico_range_high', mu=0, sd=1e5)\n",
    "    b5 = pm.Normal('tot_hi_cred_lim', mu=0, sd=1e5)\n",
    "    # Calculate mu\n",
    "    mu = b0 + pm.math.dot(data_selected[\"last_fico_range_high\"], b1)+ \\\n",
    "    pm.math.dot(data_selected[\"total_rec_prncp\"], b2)+  pm.math.dot(data_selected[\"num_actv_bc_tl\"], b3) + \\\n",
    "    pm.math.dot(data_selected[\"fico_range_high\"], b4) + pm.math.dot(data_selected[\"tot_hi_cred_lim\"], b5)\n",
    "    # Use inv logit function\n",
    "    theta = pm.Deterministic('theta',  pm.invlogit(mu))\n",
    "    # Calculate bernoulli\n",
    "    yl = pm.Bernoulli('Yl', p=theta, observed=y)\n",
    "    trace_reduced_sample = pm.sample(2000, tune=1000, init='adapt_diag', cores =4)\n",
    "    pm.traceplot(trace_reduced_sample,var_names=['intercept','last_fico_range_high','total_rec_prncp','num_actv_bc_tl','fico_range_high',\n",
    "                                                'tot_hi_cred_lim'])\n",
    "pm.model_to_graphviz(reduced_model_sample)"
   ]
  },
  {
   "cell_type": "markdown",
   "metadata": {},
   "source": [
    "#### Prediction Results"
   ]
  },
  {
   "cell_type": "code",
   "execution_count": null,
   "metadata": {},
   "outputs": [],
   "source": [
    "soft_classification = trace_reduced_sample['theta'].mean(axis=0)\n",
    "hard_classification = np.array(list(map(lambda x: 1 if x >= .5 else 0,soft_classification)))\n",
    "n = len(hard_classification)\n",
    "np.sum(hard_classification == data_selected['loan_status']) /n"
   ]
  },
  {
   "cell_type": "code",
   "execution_count": null,
   "metadata": {},
   "outputs": [],
   "source": [
    "sklearn.metrics.confusion_matrix( data_selected['loan_status'], hard_classification)"
   ]
  },
  {
   "cell_type": "markdown",
   "metadata": {},
   "source": [
    "### Hierarchical Model"
   ]
  },
  {
   "cell_type": "code",
   "execution_count": null,
   "metadata": {},
   "outputs": [],
   "source": [
    "num_ownership = len(data_selected['home_ownership'].unique())\n",
    "ownership = data_selected['home_ownership']\n",
    "with pm.Model() as hierarchical_logistic_model:\n",
    "    y = data_selected['loan_status']\n",
    "    # Hyperpriors for group nodes\n",
    "    mu_a = pm.Normal('mu_a', mu=0., sd=1e2)\n",
    "    sigma_a = pm.HalfNormal(\"sigma_a\",  0.5)\n",
    "    mu_b1 = pm.Normal('mu_b1', mu=0., sd=1e2)\n",
    "    sigma_b1 = pm.HalfNormal(\"sigma_b1\", 0.5)\n",
    "    mu_b2 = pm.Normal('mu_b2', mu=0., sd=1e2)\n",
    "    sigma_b2 = pm.HalfNormal(\"sigma_b2\", 0.5)\n",
    "    mu_b3 = pm.Normal('mu_b3', mu=0., sd=1e2)\n",
    "    sigma_b3 = pm.HalfNormal(\"sigma_b3\", 0.5)\n",
    "    mu_b4 = pm.Normal('mu_b4', mu=0., sd=1e2)\n",
    "    sigma_b4 = pm.HalfNormal(\"sigma_b4\", 0.5)\n",
    "    mu_b5 = pm.Normal('mu_b5', mu=0., sd=1e2)\n",
    "    sigma_b5 = pm.HalfNormal(\"sigma_b5\", 0.5)\n",
    "    # Random intercepts for each country\n",
    "    a = pm.Normal('intercept', mu=mu_a, sd=sigma_a, shape=num_ownership)\n",
    "    # Random slopes for each country\n",
    "    b1 = pm.Normal('last_fico_range_high', mu=mu_b1, sd=sigma_b1, shape=num_ownership)\n",
    "    b2 = pm.Normal('total_rec_prncp', mu=mu_b2, sd=sigma_b2, shape=num_ownership)\n",
    "    b3 = pm.Normal('num_actv_bc_tl', mu=mu_b3, sd=sigma_b3, shape=num_ownership)\n",
    "    b4 = pm.Normal('fico_range_high', mu=mu_b4, sd=sigma_b4, shape=num_ownership)\n",
    "    b5 = pm.Normal('tot_hi_cred_lim', mu=mu_b5, sd=sigma_b5, shape=num_ownership)\n",
    "    \n",
    "    mu = a[ownership] + b1[ownership] * data_selected['last_fico_range_high'] + \\\n",
    "                                                b2[ownership] * data_selected['total_rec_prncp']+ \\\n",
    "                                               b3[ownership] * data_selected['num_actv_bc_tl'] + \\\n",
    "                                               b4[ownership] * data_selected['fico_range_high'] + \\\n",
    "                                               b5[ownership] * data_selected['tot_hi_cred_lim']\n",
    "   # mu = a[ownership] +  pm.math.dot(data_selected['total_rec_prncp'], b2[ownership]) \n",
    "    # Use inv logit function\n",
    "    theta = pm.Deterministic('theta',  pm.invlogit(mu))\n",
    "    # Calculate bernoulli\n",
    "    yl = pm.Bernoulli('Yl', p=theta, observed=y)\n",
    "#     trace_reduced_sample = pm.sample(2000, tune=1000, init='adapt_diag')"
   ]
  },
  {
   "cell_type": "code",
   "execution_count": null,
   "metadata": {},
   "outputs": [],
   "source": [
    "pm.model_to_graphviz(hierarchical_logistic_model)"
   ]
  },
  {
   "cell_type": "code",
   "execution_count": null,
   "metadata": {},
   "outputs": [],
   "source": [
    "with hierarchical_logistic_model: \n",
    "    hier_approx = pm.fit(50000, method = 'advi')"
   ]
  },
  {
   "cell_type": "code",
   "execution_count": null,
   "metadata": {},
   "outputs": [],
   "source": [
    "advi_hier_trace = hier_approx.sample(5000)"
   ]
  },
  {
   "cell_type": "code",
   "execution_count": null,
   "metadata": {},
   "outputs": [],
   "source": [
    "advi_elbo = pd.DataFrame(\n",
    "    {'ELBO': -hier_approx.hist,\n",
    "     'n': np.arange(hier_approx.hist.shape[0])})\n",
    "\n",
    "g = sns.lineplot(y='ELBO', x='n', data=advi_elbo)"
   ]
  },
  {
   "cell_type": "code",
   "execution_count": null,
   "metadata": {},
   "outputs": [],
   "source": [
    "import seaborn as sns\n",
    "import matplotlib.pyplot as plt\n",
    "fig, axs = plt.subplots(ncols=6,nrows=3,figsize=(20,20))\n",
    "# Plot\n",
    "lookup = {0:'rent',1:'mortgage',2:'own'}\n",
    "hierachical_fit_trace_sample = hier_approx.sample(5000)\n",
    "params = range(num_ownership)\n",
    "parameters = ['intercept','last_fico_range_high','total_rec_prncp','num_actv_bc_tl','fico_range_high','tot_hi_cred_lim']\n",
    "indexes = [(j,i) for i in range(3) for j in range(len(parameters))]\n",
    "for i,param in enumerate(params):\n",
    "    for j,parameter in enumerate(parameters):\n",
    "        axInd = indexes[i]\n",
    "        trace_fit = hierachical_fit_trace_sample[parameter]\n",
    "        #pm.plot_posterior((np.exp(trace_sample[:,param]) / (1 + np.exp(trace_sample[:,param]))), ax=axs[axInd[0]][axInd[1]],point_estimate=None,  alpha=0.7)\n",
    "        pm.plot_posterior((np.exp(trace_fit[:,param]) / (1 + np.exp(trace_fit[:,param]))),color='red',  ax=axs[i][j],point_estimate=None,hdi_prob= 'hide', alpha=0.7)\n",
    "        axs[i][j].title.set_text(f'parameter: {parameter}\\n group: {lookup[i]}')\n",
    "        #axs[i][j].set_xlim(0,1)\n",
    "        plt.tight_layout()\n",
    "        plt.subplots_adjust(top=0.9)\n",
    "plt.show()   "
   ]
  },
  {
   "cell_type": "markdown",
   "metadata": {},
   "source": [
    "#### Prediction Results"
   ]
  },
  {
   "cell_type": "code",
   "execution_count": null,
   "metadata": {},
   "outputs": [],
   "source": [
    "soft_classification = hierachical_fit_trace_sample['theta'].mean(axis=0)\n",
    "hard_classification = np.array(list(map(lambda x: 1 if x >= .5 else 0,soft_classification)))\n",
    "n = len(hard_classification)\n",
    "np.sum(hard_classification == data_selected['loan_status']) /n"
   ]
  },
  {
   "cell_type": "code",
   "execution_count": null,
   "metadata": {},
   "outputs": [],
   "source": [
    "sklearn.metrics.confusion_matrix( data_selected['loan_status'], hard_classification)"
   ]
  },
  {
   "cell_type": "markdown",
   "metadata": {
    "id": "szESvKwgj89O"
   },
   "source": [
    "## Bayesian Model Averaging"
   ]
  },
  {
   "cell_type": "code",
   "execution_count": null,
   "metadata": {},
   "outputs": [],
   "source": [
    "# Model comparisons with WAIC and weights\n",
    "\n",
    "cmp_df = az.compare({'model_full':trace_full_sample, 'model_reduced':trace_reduced_sample,'model_hierarchical':hierachical_fit_trace_sample}, ic = 'WAIC',\n",
    "                    method='BB-pseudo-BMA')\n",
    "# Model weights\n",
    "cmp_df"
   ]
  },
  {
   "cell_type": "code",
   "execution_count": null,
   "metadata": {},
   "outputs": [],
   "source": [
    "# Computing predictions by combining the models using the WAIC weights\n",
    "\n",
    "#np.exp(-0.5*waic_p[0])/(np.exp(-0.5*waic_l[0]) + np.exp(-0.5*waic_p[0]))\n",
    "# or use the value given in the table\n",
    "w_full= cmp_df.loc['model_full','weight']\n",
    "w_reduced= cmp_df.loc['model_reduced','weight']\n",
    "w_hierarchical= cmp_df.loc['model_hierarchical','weight']\n",
    "\n",
    "weights = [w_full,w_reduced,w_hierarchical]"
   ]
  },
  {
   "cell_type": "code",
   "execution_count": null,
   "metadata": {},
   "outputs": [],
   "source": [
    "# BMA Model\n",
    "y_bma = pm.sample_posterior_predictive_w(traces = [trace_full_sample,trace_reduced_sample,hierachical_fit_trace_sample],\n",
    "                                        samples=1000,\n",
    "                                        models=[full_model_sample, reduced_model_sample,hierarchical_logistic_model],\n",
    "                                        weights=weights)\n",
    "# Full Model\n",
    "y_full = pm.sample_posterior_predictive_w(traces = [trace_full_sample],\n",
    "                                        samples=1000,\n",
    "                                         models=[full_model_sample])\n",
    "# Reduced\n",
    "y_reduced = pm.sample_posterior_predictive_w(traces = [trace_reduced_sample],\n",
    "                                        samples=1000,\n",
    "                                        models=[ reduced_model_sample])\n",
    "\n",
    "# Hierarchical\n",
    "y_hierarchical= pm.sample_posterior_predictive_w(traces = [hierachical_fit_trace_sample],\n",
    "                                        samples=1000,\n",
    "                                        models=[ hierarchical_logistic_model])"
   ]
  },
  {
   "cell_type": "code",
   "execution_count": null,
   "metadata": {},
   "outputs": [],
   "source": [
    "az.plot_kde(trace_full_sample['theta'].mean(axis=0), plot_kwargs={'color': 'C1'}, label='full model',)\n",
    "az.plot_kde(trace_reduced_sample['theta'].mean(axis=0), plot_kwargs={'color': 'C1'}, label='reduced model',)\n",
    "az.plot_kde(hierachical_fit_trace_sample['theta'].mean(axis=0), plot_kwargs={'color': 'C1'}, label='hierarchical model',)\n",
    "theta_bma = trace_full_sample['theta'].mean(axis=0)*weights[0]+ trace_reduced_sample['theta'].mean(axis=0)*weights[1] + hierachical_fit_trace_sample['theta'].mean(axis=0)*weights[2] \n",
    "az.plot_kde(theta_bma, plot_kwargs={'color': 'C1'}, label='bma model',)"
   ]
  },
  {
   "cell_type": "markdown",
   "metadata": {},
   "source": [
    "#### Prediction Results"
   ]
  },
  {
   "cell_type": "code",
   "execution_count": null,
   "metadata": {},
   "outputs": [],
   "source": [
    "soft_classification = theta_bma\n",
    "hard_classification = np.array(list(map(lambda x: 1 if x >= .5 else 0,soft_classification)))\n",
    "n = len(hard_classification)\n",
    "np.sum(hard_classification == data_selected['loan_status']) /n"
   ]
  },
  {
   "cell_type": "code",
   "execution_count": null,
   "metadata": {},
   "outputs": [],
   "source": [
    "sklearn.metrics.confusion_matrix( data_selected['loan_status'], hard_classification)"
   ]
  },
  {
   "cell_type": "code",
   "execution_count": null,
   "metadata": {},
   "outputs": [],
   "source": []
  }
 ],
 "metadata": {
  "colab": {
   "collapsed_sections": [],
   "name": "ML_Final_Project.ipynb",
   "provenance": []
  },
  "kernelspec": {
   "display_name": "Python 3",
   "language": "python",
   "name": "python3"
  },
  "language_info": {
   "codemirror_mode": {
    "name": "ipython",
    "version": 3
   },
   "file_extension": ".py",
   "mimetype": "text/x-python",
   "name": "python",
   "nbconvert_exporter": "python",
   "pygments_lexer": "ipython3",
   "version": "3.8.5"
  }
 },
 "nbformat": 4,
 "nbformat_minor": 4
}
